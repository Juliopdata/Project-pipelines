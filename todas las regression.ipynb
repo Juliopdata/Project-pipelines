{
 "cells": [
  {
   "cell_type": "code",
   "execution_count": 1,
   "metadata": {},
   "outputs": [],
   "source": [
    "# Ignore warnings :\n",
    "import warnings\n",
    "warnings.filterwarnings('ignore')\n",
    "\n",
    "\n",
    "# Handle table-like data and matrices :\n",
    "import numpy as np\n",
    "import pandas as pd\n",
    "import math \n",
    "\n",
    "\n",
    "\n",
    "# Modelling Algorithms :\n",
    "\n",
    "# Classification\n",
    "from sklearn.tree import DecisionTreeClassifier\n",
    "from sklearn.linear_model import LogisticRegression\n",
    "from sklearn.neighbors import KNeighborsClassifier\n",
    "from sklearn.naive_bayes import GaussianNB\n",
    "from sklearn.svm import SVC, LinearSVC\n",
    "from sklearn.ensemble import RandomForestClassifier , GradientBoostingClassifier\n",
    "from sklearn.discriminant_analysis import LinearDiscriminantAnalysis , QuadraticDiscriminantAnalysis\n",
    "\n",
    "# Regression\n",
    "from sklearn.linear_model import LinearRegression,Ridge,Lasso,RidgeCV, ElasticNet\n",
    "from sklearn.ensemble import RandomForestRegressor,BaggingRegressor,GradientBoostingRegressor,AdaBoostRegressor \n",
    "from sklearn.svm import SVR\n",
    "from sklearn.neighbors import KNeighborsRegressor\n",
    "from sklearn.neural_network import MLPRegressor\n",
    "from sklearn.tree import DecisionTreeRegressor\n",
    "\n",
    "\n",
    "\n",
    "\n",
    "# Modelling Helpers :\n",
    "from sklearn.preprocessing import Imputer , Normalizer , scale\n",
    "from sklearn.model_selection import train_test_split\n",
    "from sklearn.feature_selection import RFECV\n",
    "from sklearn.model_selection import GridSearchCV , KFold , cross_val_score\n",
    "\n",
    "\n",
    "\n",
    "#preprocessing :\n",
    "from sklearn.preprocessing import MinMaxScaler , StandardScaler, Imputer, LabelEncoder\n",
    "\n",
    "\n",
    "\n",
    "#evaluation metrics :\n",
    "\n",
    "# Regression\n",
    "from sklearn.metrics import mean_squared_log_error,mean_squared_error, r2_score,mean_absolute_error \n",
    "\n",
    "# Classification\n",
    "from sklearn.metrics import accuracy_score,precision_score,recall_score,f1_score  \n",
    "\n",
    "\n",
    "\n",
    "# Visualisation\n",
    "import matplotlib as mpl\n",
    "import matplotlib.pyplot as plt\n",
    "import matplotlib.pylab as pylab\n",
    "import seaborn as sns\n",
    "\n",
    "\n",
    "\n",
    "# Configure visualisations\n",
    "%matplotlib inline\n",
    "mpl.style.use( 'ggplot' )\n",
    "plt.style.use('fivethirtyeight')\n",
    "sns.set(context=\"notebook\", palette=\"dark\", style = 'whitegrid' , color_codes=True)\n",
    "params = { \n",
    "    'axes.labelsize': \"large\",\n",
    "    'xtick.labelsize': 'x-large',\n",
    "    'legend.fontsize': 20,\n",
    "    'figure.dpi': 150,\n",
    "    'figure.figsize': [25, 7]\n",
    "}\n",
    "plt.rcParams.update(params)"
   ]
  },
  {
   "cell_type": "code",
   "execution_count": 2,
   "metadata": {},
   "outputs": [],
   "source": [
    "df = pd.read_csv(\"./input/data.csv\")"
   ]
  },
  {
   "cell_type": "code",
   "execution_count": 3,
   "metadata": {},
   "outputs": [],
   "source": [
    "def colorator(x):\n",
    "    colors = {\n",
    "        'D': 7,\n",
    "        'E': 6,\n",
    "        'F': 5,\n",
    "        'G': 4,\n",
    "        'H': 3,\n",
    "        'I': 2,\n",
    "        'J': 1,\n",
    "    }\n",
    "    return colors[x]"
   ]
  },
  {
   "cell_type": "code",
   "execution_count": 4,
   "metadata": {},
   "outputs": [],
   "source": [
    "def clarificator(x):\n",
    "    clarif = {\n",
    "        'I1': 1,\n",
    "        'SI2': 2,\n",
    "        'SI1': 3,\n",
    "        'VS2': 4,\n",
    "        'VS1': 5,\n",
    "        'VVS2': 6,\n",
    "        'VVS1': 7,\n",
    "        'IF': 8,\n",
    "    }\n",
    "    return clarif[x]"
   ]
  },
  {
   "cell_type": "code",
   "execution_count": 5,
   "metadata": {},
   "outputs": [],
   "source": [
    "def encodetor(x):\n",
    "    codes = {\n",
    "        'Fair': 1,\n",
    "        'Good': 2,\n",
    "        'Very Good': 3,\n",
    "        'Premium': 4,\n",
    "        'Ideal': 5,\n",
    "    }\n",
    "    return codes[x]"
   ]
  },
  {
   "cell_type": "code",
   "execution_count": 6,
   "metadata": {},
   "outputs": [],
   "source": [
    "df[\"cut\"] = df.cut.apply(encodetor)\n",
    "df[\"color\"] = df.color.apply(colorator)\n",
    "df[\"clarity\"] = df.clarity.apply(clarificator)"
   ]
  },
  {
   "cell_type": "code",
   "execution_count": 7,
   "metadata": {},
   "outputs": [],
   "source": [
    "df.drop('x', axis=1, inplace=True)\n",
    "df.drop('z', axis=1, inplace=True)"
   ]
  },
  {
   "cell_type": "code",
   "execution_count": 8,
   "metadata": {},
   "outputs": [],
   "source": [
    "dftrain = df.drop(columns=['price'], axis=1)"
   ]
  },
  {
   "cell_type": "code",
   "execution_count": 9,
   "metadata": {},
   "outputs": [],
   "source": [
    "y = df['price']\n",
    "X = dftrain"
   ]
  },
  {
   "cell_type": "code",
   "execution_count": 10,
   "metadata": {},
   "outputs": [],
   "source": [
    "from sklearn.model_selection import train_test_split\n",
    "X_train, X_test, y_train, y_test = train_test_split(X,y,test_size=0.2, random_state=101)"
   ]
  },
  {
   "cell_type": "code",
   "execution_count": 11,
   "metadata": {},
   "outputs": [],
   "source": [
    "sc = StandardScaler()\n",
    "X_train = sc.fit_transform(X_train)\n",
    "X_test = sc.transform(X_test)"
   ]
  },
  {
   "cell_type": "code",
   "execution_count": 12,
   "metadata": {},
   "outputs": [],
   "source": [
    "R2_Scores = []\n",
    "lmse = []\n",
    "lmae = []\n",
    "lrmse = []\n",
    "accu = []\n",
    "models = [ 'RandomForest','KNeighbours', 'DecisionTree','GradientBoosting','Linear', 'AdaBoost', 'Ridge']"
   ]
  },
  {
   "cell_type": "code",
   "execution_count": null,
   "metadata": {},
   "outputs": [],
   "source": []
  },
  {
   "cell_type": "code",
   "execution_count": 13,
   "metadata": {},
   "outputs": [
    {
     "name": "stderr",
     "output_type": "stream",
     "text": [
      "[Parallel(n_jobs=1)]: Using backend SequentialBackend with 1 concurrent workers.\n"
     ]
    },
    {
     "name": "stdout",
     "output_type": "stream",
     "text": [
      "\n",
      "###### Random Forest ######\n",
      "Score : 0.9783\n",
      "[0.978786   0.9807438  0.97722491 0.97904804 0.97804658]\n",
      "\n",
      "MSE    : 351044.97 \n",
      "MAE    : 298.54 \n",
      "RMSE   : 592.49 \n",
      "R2     : f \n"
     ]
    },
    {
     "name": "stderr",
     "output_type": "stream",
     "text": [
      "[Parallel(n_jobs=1)]: Done   5 out of   5 | elapsed:    2.7s finished\n"
     ]
    }
   ],
   "source": [
    "clf_rf = RandomForestRegressor()\n",
    "clf_rf.fit(X_train , y_train)\n",
    "accuracies = cross_val_score(estimator = clf_rf, X = X_train, y = y_train, cv = 5,verbose = 1)\n",
    "y_pred = clf_rf.predict(X_test)\n",
    "print('')\n",
    "print('###### Random Forest ######')\n",
    "print('Score : %.4f' % clf_rf.score(X_test, y_test))\n",
    "print(accuracies)\n",
    "\n",
    "mse = mean_squared_error(y_test, y_pred)\n",
    "mae = mean_absolute_error(y_test, y_pred)\n",
    "rmse = mean_squared_error(y_test, y_pred)**0.5\n",
    "r2 = r2_score(y_test, y_pred)\n",
    "\n",
    "print('')\n",
    "print('MSE    : %0.2f ' % mse)\n",
    "print('MAE    : %0.2f ' % mae)\n",
    "print('RMSE   : %0.2f ' % rmse)\n",
    "print('R2     : f ' % r2)"
   ]
  },
  {
   "cell_type": "code",
   "execution_count": 14,
   "metadata": {},
   "outputs": [
    {
     "name": "stdout",
     "output_type": "stream",
     "text": [
      "Score : 0.9799\n",
      "R2     : 0.98 \n"
     ]
    }
   ],
   "source": [
    "no_of_test=[100]\n",
    "params_dict={'n_estimators':no_of_test,'n_jobs':[-1],'max_features':[\"auto\",'sqrt','log2']}\n",
    "clf_rf=GridSearchCV(estimator=RandomForestRegressor(),param_grid=params_dict,scoring='r2')\n",
    "clf_rf.fit(X_train,y_train)\n",
    "print('Score : %.4f' % clf_rf.score(X_test, y_test))\n",
    "pred=clf_rf.predict(X_test)\n",
    "r2 = r2_score(y_test, pred)\n",
    "print('R2     : %0.2f ' % r2)\n",
    "R2_Scores.append(r2)\n",
    "lmse.append(round(mse,2))\n",
    "lmae.append(round(mae,2))\n",
    "lrmse.append(round(rmse,2))\n",
    "accu.append(accuracies)"
   ]
  },
  {
   "cell_type": "code",
   "execution_count": 15,
   "metadata": {},
   "outputs": [
    {
     "name": "stderr",
     "output_type": "stream",
     "text": [
      "[Parallel(n_jobs=1)]: Using backend SequentialBackend with 1 concurrent workers.\n",
      "[Parallel(n_jobs=1)]: Done   5 out of   5 | elapsed:    0.8s finished\n"
     ]
    },
    {
     "name": "stdout",
     "output_type": "stream",
     "text": [
      "\n",
      "###### KNeighbours Regression ######\n",
      "Score : 0.9618\n",
      "[0.95883198 0.9614943  0.96118038 0.96141774 0.95796732]\n",
      "\n",
      "MSE    : 618851.94 \n",
      "MAE    : 427.28 \n",
      "RMSE   : 786.67 \n",
      "R2     : 0.96 \n"
     ]
    }
   ],
   "source": [
    "clf_knn = KNeighborsRegressor()\n",
    "clf_knn.fit(X_train , y_train)\n",
    "accuracies = cross_val_score(estimator = clf_knn, X = X_train, y = y_train, cv = 5,verbose = 1)\n",
    "y_pred = clf_knn.predict(X_test)\n",
    "print('')\n",
    "print('###### KNeighbours Regression ######')\n",
    "print('Score : %.4f' % clf_knn.score(X_test, y_test))\n",
    "print(accuracies)\n",
    "\n",
    "mse = mean_squared_error(y_test, y_pred)\n",
    "mae = mean_absolute_error(y_test, y_pred)\n",
    "rmse = mean_squared_error(y_test, y_pred)**0.5\n",
    "r2 = r2_score(y_test, y_pred)\n",
    "\n",
    "print('')\n",
    "print('MSE    : %0.2f ' % mse)\n",
    "print('MAE    : %0.2f ' % mae)\n",
    "print('RMSE   : %0.2f ' % rmse)\n",
    "print('R2     : %0.2f ' % r2)"
   ]
  },
  {
   "cell_type": "code",
   "execution_count": 16,
   "metadata": {},
   "outputs": [
    {
     "name": "stdout",
     "output_type": "stream",
     "text": [
      "Score : 0.9632\n",
      "R2     : 0.96 \n"
     ]
    }
   ],
   "source": [
    "n_neighbors=[]\n",
    "for i in range (0,50,5):\n",
    "    if(i!=0):\n",
    "        n_neighbors.append(i)\n",
    "params_dict={'n_neighbors':n_neighbors,'n_jobs':[-1]}\n",
    "clf_knn=GridSearchCV(estimator=KNeighborsRegressor(),param_grid=params_dict,scoring='r2')\n",
    "clf_knn.fit(X_train,y_train)\n",
    "print('Score : %.4f' % clf_knn.score(X_test, y_test))\n",
    "pred=clf_knn.predict(X_test)\n",
    "r2 = r2_score(y_test, pred)\n",
    "print('R2     : %0.2f ' % r2)\n",
    "R2_Scores.append(r2)\n",
    "lmse.append(round(mse,2))\n",
    "lmae.append(round(mae,2))\n",
    "lrmse.append(round(rmse,2))\n",
    "accu.append(accuracies)"
   ]
  },
  {
   "cell_type": "code",
   "execution_count": 17,
   "metadata": {},
   "outputs": [
    {
     "name": "stderr",
     "output_type": "stream",
     "text": [
      "[Parallel(n_jobs=1)]: Using backend SequentialBackend with 1 concurrent workers.\n"
     ]
    },
    {
     "name": "stdout",
     "output_type": "stream",
     "text": [
      "\n",
      "###### DecisionTree Regressor ######\n",
      "Score : 0.9626\n",
      "[0.96450358 0.9644232  0.96426895 0.96427697 0.96439836]\n",
      "\n",
      "MSE    : 606383.36 \n",
      "MAE    : 379.27 \n",
      "RMSE   : 778.71 \n",
      "R2     : 0.96 \n"
     ]
    },
    {
     "name": "stderr",
     "output_type": "stream",
     "text": [
      "[Parallel(n_jobs=1)]: Done   5 out of   5 | elapsed:    0.4s finished\n"
     ]
    }
   ],
   "source": [
    "clf_dct = DecisionTreeRegressor()\n",
    "clf_dct.fit(X_train , y_train)\n",
    "accuracies = cross_val_score(estimator = clf_dct, X = X_train, y = y_train, cv = 5,verbose = 1)\n",
    "y_pred = clf_dct.predict(X_test)\n",
    "print('')\n",
    "print('###### DecisionTree Regressor ######')\n",
    "print('Score : %.4f' % clf_dct.score(X_test, y_test))\n",
    "print(accuracies)\n",
    "\n",
    "mse = mean_squared_error(y_test, y_pred)\n",
    "mae = mean_absolute_error(y_test, y_pred)\n",
    "rmse = mean_squared_error(y_test, y_pred)**0.5\n",
    "r2 = r2_score(y_test, y_pred)\n",
    "\n",
    "print('')\n",
    "print('MSE    : %0.2f ' % mse)\n",
    "print('MAE    : %0.2f ' % mae)\n",
    "print('RMSE   : %0.2f ' % rmse)\n",
    "print('R2     : %0.2f ' % r2)\n",
    "R2_Scores.append(r2)\n",
    "lmse.append(round(mse,2))\n",
    "lmae.append(round(mae,2))\n",
    "lrmse.append(round(rmse,2))\n",
    "accu.append(accuracies)"
   ]
  },
  {
   "cell_type": "code",
   "execution_count": 18,
   "metadata": {},
   "outputs": [
    {
     "name": "stdout",
     "output_type": "stream",
     "text": [
      "      Iter       Train Loss   Remaining Time \n",
      "         1    10992513.4832            1.49s\n",
      "         2     7607656.7162            1.50s\n",
      "         3     5803853.8145            1.48s\n",
      "         4     4619216.9877            1.45s\n",
      "         5     3812545.3296            1.41s\n",
      "         6     3242971.8563            1.46s\n",
      "         7     2861488.3338            1.44s\n",
      "         8     2615522.7606            1.39s\n",
      "         9     2399694.7557            1.36s\n",
      "        10     2284078.6887            1.35s\n",
      "        20     1695362.0785            1.30s\n",
      "        30     1425392.8521            1.22s\n",
      "        40     1297495.8712            1.14s\n",
      "        50     1228361.8382            1.08s\n",
      "        60     1187394.8423            1.04s\n",
      "        70     1159780.4343            0.99s\n",
      "        80     1141777.7312            0.99s\n",
      "        90     1129544.1455            0.99s\n",
      "       100     1121052.7840            0.97s\n",
      "       200     1088728.7642            0.72s\n",
      "       300     1074217.4745            0.49s\n",
      "       400     1063890.6497            0.24s\n",
      "       500     1056121.6745            0.00s\n",
      "      Iter       Train Loss   Remaining Time \n",
      "         1    10975281.9060            1.08s\n",
      "         2     7606882.8414            1.02s\n",
      "         3     5806541.5520            1.05s\n",
      "         4     4622808.7806            1.13s\n",
      "         5     3794811.5498            1.09s\n",
      "         6     3267439.6916            1.13s\n",
      "         7     2876473.8182            1.19s\n",
      "         8     2617555.2071            1.17s\n",
      "         9     2414021.2116            1.15s\n",
      "        10     2285895.1035            1.13s\n",
      "        20     1695314.2881            1.00s\n",
      "        30     1422768.9087            0.97s\n",
      "        40     1295940.4222            1.02s\n",
      "        50     1226093.1934            1.01s\n",
      "        60     1184577.5861            0.97s\n",
      "        70     1158328.5802            0.94s\n",
      "        80     1140889.5240            0.91s\n"
     ]
    },
    {
     "name": "stderr",
     "output_type": "stream",
     "text": [
      "[Parallel(n_jobs=1)]: Using backend SequentialBackend with 1 concurrent workers.\n"
     ]
    },
    {
     "name": "stdout",
     "output_type": "stream",
     "text": [
      "        90     1129538.4955            0.91s\n",
      "       100     1121798.3868            0.89s\n",
      "       200     1090372.8146            0.63s\n",
      "       300     1074654.1271            0.40s\n",
      "       400     1063288.2497            0.20s\n",
      "       500     1054602.7007            0.00s\n",
      "      Iter       Train Loss   Remaining Time \n",
      "         1    10938388.6054            1.23s\n",
      "         2     7591352.3116            1.16s\n",
      "         3     5799199.0916            1.12s\n",
      "         4     4641742.5609            1.19s\n",
      "         5     3810117.9195            1.23s\n",
      "         6     3254288.9084            1.23s\n",
      "         7     2846380.9838            1.19s\n",
      "         8     2601820.6598            1.15s\n",
      "         9     2392437.4878            1.14s\n",
      "        10     2281332.7311            1.15s\n",
      "        20     1683879.5621            1.01s\n",
      "        30     1414882.0147            0.94s\n",
      "        40     1287553.3148            0.90s\n",
      "        50     1218320.5690            0.88s\n",
      "        60     1177721.1420            0.85s\n",
      "        70     1150396.3432            0.83s\n",
      "        80     1133248.2561            0.80s\n",
      "        90     1121408.8001            0.79s\n",
      "       100     1113338.7968            0.79s\n",
      "       200     1082442.8668            0.58s\n",
      "       300     1066794.7541            0.38s\n",
      "       400     1056415.4034            0.19s\n",
      "       500     1048768.4975            0.00s\n",
      "      Iter       Train Loss   Remaining Time \n",
      "         1    11077753.5373            1.04s\n",
      "         2     7650932.8215            1.00s\n",
      "         3     5827285.3242            0.98s\n",
      "         4     4640228.4503            1.00s\n",
      "         5     3807362.3084            0.99s\n",
      "         6     3237613.9436            0.99s\n",
      "         7     2853771.2076            0.98s\n",
      "         8     2600236.3859            0.98s\n",
      "         9     2385467.0411            0.97s\n",
      "        10     2275479.1429            0.97s\n",
      "        20     1683365.4569            0.91s\n",
      "        30     1417173.1742            0.88s\n",
      "        40     1288409.9996            0.85s\n",
      "        50     1220501.9198            0.83s\n",
      "        60     1178827.0878            0.81s\n",
      "        70     1152059.2224            0.79s\n",
      "        80     1134270.3387            0.77s\n",
      "        90     1121960.7571            0.75s\n",
      "       100     1113380.2394            0.73s\n",
      "       200     1080538.4317            0.55s\n",
      "       300     1064973.4446            0.39s\n",
      "       400     1054253.4027            0.20s\n",
      "       500     1046128.9439            0.00s\n",
      "      Iter       Train Loss   Remaining Time \n",
      "         1    10936053.0148            1.19s\n",
      "         2     7614317.6113            1.11s\n",
      "         3     5818104.8777            1.19s\n",
      "         4     4569111.0324            1.22s\n",
      "         5     3838084.5766            1.23s\n",
      "         6     3237155.0509            1.18s\n",
      "         7     2863149.4356            1.16s\n",
      "         8     2622639.9737            1.13s\n",
      "         9     2406853.2743            1.11s\n",
      "        10     2290459.7049            1.10s\n",
      "        20     1696070.1609            0.99s\n",
      "        30     1429232.5316            0.92s\n",
      "        40     1300585.2089            0.89s\n",
      "        50     1231421.0123            0.86s\n",
      "        60     1189441.0963            0.83s\n",
      "        70     1162125.6446            0.81s\n",
      "        80     1143705.0690            0.78s\n",
      "        90     1131538.9740            0.76s\n",
      "       100     1122245.7433            0.74s\n",
      "       200     1078522.1717            0.58s\n",
      "       300     1059980.4644            0.38s\n",
      "       400     1049215.8580            0.19s\n",
      "       500     1041837.4127            0.00s\n",
      "      Iter       Train Loss   Remaining Time \n",
      "         1    11033126.6602            1.18s\n",
      "         2     7626259.4304            1.23s\n",
      "         3     5806080.9560            1.33s\n",
      "         4     4616838.9186            1.39s\n",
      "         5     3815008.1318            1.30s\n",
      "         6     3249662.5529            1.25s\n",
      "         7     2874557.6925            1.21s\n",
      "         8     2622894.4727            1.17s\n",
      "         9     2407831.0400            1.17s\n",
      "        10     2291504.6692            1.21s\n",
      "        20     1698584.2917            1.14s\n",
      "        30     1430708.4849            1.02s\n",
      "        40     1301081.7961            0.96s\n",
      "        50     1232265.3885            0.91s\n",
      "        60     1190647.0212            0.88s\n",
      "        70     1162870.2064            0.85s\n",
      "        80     1144707.6471            0.82s\n",
      "        90     1132636.4249            0.79s\n",
      "       100     1123816.4103            0.77s\n",
      "       200     1090884.1718            0.57s\n",
      "       300     1075788.9382            0.37s\n",
      "       400     1065384.0238            0.19s\n",
      "       500     1057662.3092            0.00s\n",
      "\n",
      "###### Gradient Boosting Regression #######\n",
      "Score : 0.9303\n",
      "[0.93110824 0.93292911 0.92779152 0.93447068 0.93228713]\n",
      "\n",
      "MSE    : 1128917.10 \n",
      "MAE    : 691.32 \n",
      "RMSE   : 1062.51 \n",
      "R2     : 0.93 \n"
     ]
    },
    {
     "name": "stderr",
     "output_type": "stream",
     "text": [
      "[Parallel(n_jobs=1)]: Done   5 out of   5 | elapsed:    4.9s finished\n"
     ]
    }
   ],
   "source": [
    "clf_gbr = GradientBoostingRegressor(n_estimators=500, learning_rate=0.3,max_depth=1, random_state=0, loss='ls',verbose = 1)\n",
    "clf_gbr.fit(X_train , y_train)\n",
    "accuracies = cross_val_score(estimator = clf_gbr, X = X_train, y = y_train, cv = 5,verbose = 1)\n",
    "y_pred = clf_gbr.predict(X_test)\n",
    "print('')\n",
    "print('###### Gradient Boosting Regression #######')\n",
    "print('Score : %.4f' % clf_gbr.score(X_test, y_test))\n",
    "print(accuracies)\n",
    "\n",
    "mse = mean_squared_error(y_test, y_pred)\n",
    "mae = mean_absolute_error(y_test, y_pred)\n",
    "rmse = mean_squared_error(y_test, y_pred)**0.5\n",
    "r2 = r2_score(y_test, y_pred)\n",
    "\n",
    "print('')\n",
    "print('MSE    : %0.2f ' % mse)\n",
    "print('MAE    : %0.2f ' % mae)\n",
    "print('RMSE   : %0.2f ' % rmse)\n",
    "print('R2     : %0.2f ' % r2)\n",
    "\n",
    "R2_Scores.append(r2)\n",
    "lmse.append(round(mse,2))\n",
    "lmae.append(round(mae,2))\n",
    "lrmse.append(round(rmse,2))\n",
    "accu.append(accuracies)"
   ]
  },
  {
   "cell_type": "code",
   "execution_count": 19,
   "metadata": {},
   "outputs": [
    {
     "name": "stdout",
     "output_type": "stream",
     "text": [
      "\n",
      "####### Linear Regression #######\n",
      "Score : 0.9047\n",
      "[0.90788934 0.90107382 0.90483075 0.91357703 0.89814091]\n",
      "\n",
      "MSE    : 1543555.33 \n",
      "MAE    : 844.14 \n",
      "RMSE   : 1242.40 \n",
      "R2     : 0.90 \n"
     ]
    },
    {
     "name": "stderr",
     "output_type": "stream",
     "text": [
      "[Parallel(n_jobs=1)]: Using backend SequentialBackend with 1 concurrent workers.\n",
      "[Parallel(n_jobs=1)]: Done   5 out of   5 | elapsed:    0.1s finished\n"
     ]
    }
   ],
   "source": [
    "clf_lr = LinearRegression()\n",
    "clf_lr.fit(X_train , y_train)\n",
    "accuracies = cross_val_score(estimator = clf_lr, X = X_train, y = y_train, cv = 5,verbose = 1)\n",
    "y_pred = clf_lr.predict(X_test)\n",
    "print('')\n",
    "print('####### Linear Regression #######')\n",
    "print('Score : %.4f' % clf_lr.score(X_test, y_test))\n",
    "print(accuracies)\n",
    "\n",
    "mse = mean_squared_error(y_test, y_pred)\n",
    "mae = mean_absolute_error(y_test, y_pred)\n",
    "rmse = mean_squared_error(y_test, y_pred)**0.5\n",
    "r2 = r2_score(y_test, y_pred)\n",
    "\n",
    "print('')\n",
    "print('MSE    : %0.2f ' % mse)\n",
    "print('MAE    : %0.2f ' % mae)\n",
    "print('RMSE   : %0.2f ' % rmse)\n",
    "print('R2     : %0.2f ' % r2)\n",
    "\n",
    "R2_Scores.append(r2)\n",
    "lmse.append(round(mse,2))\n",
    "lmae.append(round(mae,2))\n",
    "lrmse.append(round(rmse,2))\n",
    "accu.append(accuracies)"
   ]
  },
  {
   "cell_type": "code",
   "execution_count": 20,
   "metadata": {},
   "outputs": [
    {
     "name": "stderr",
     "output_type": "stream",
     "text": [
      "[Parallel(n_jobs=1)]: Using backend SequentialBackend with 1 concurrent workers.\n"
     ]
    },
    {
     "name": "stdout",
     "output_type": "stream",
     "text": [
      "\n",
      "###### AdaBoost Regression ######\n",
      "Score : 0.9159\n",
      "[0.82685342 0.91012381 0.90498267 0.91948333 0.83215077]\n",
      "\n",
      "MSE    : 1362240.45 \n",
      "MAE    : 926.39 \n",
      "RMSE   : 1167.15 \n",
      "R2     : 0.92 \n"
     ]
    },
    {
     "name": "stderr",
     "output_type": "stream",
     "text": [
      "[Parallel(n_jobs=1)]: Done   5 out of   5 | elapsed:   12.7s finished\n"
     ]
    }
   ],
   "source": [
    "clf_ar = AdaBoostRegressor(n_estimators=1000)\n",
    "clf_ar.fit(X_train , y_train)\n",
    "accuracies = cross_val_score(estimator = clf_ar, X = X_train, y = y_train, cv = 5,verbose = 1)\n",
    "y_pred = clf_ar.predict(X_test)\n",
    "print('')\n",
    "print('###### AdaBoost Regression ######')\n",
    "print('Score : %.4f' % clf_ar.score(X_test, y_test))\n",
    "print(accuracies)\n",
    "\n",
    "mse = mean_squared_error(y_test, y_pred)\n",
    "mae = mean_absolute_error(y_test, y_pred)\n",
    "rmse = mean_squared_error(y_test, y_pred)**0.5\n",
    "r2 = r2_score(y_test, y_pred)\n",
    "\n",
    "print('')\n",
    "print('MSE    : %0.2f ' % mse)\n",
    "print('MAE    : %0.2f ' % mae)\n",
    "print('RMSE   : %0.2f ' % rmse)\n",
    "print('R2     : %0.2f ' % r2)\n",
    "\n",
    "R2_Scores.append(r2)\n",
    "lmse.append(round(mse,2))\n",
    "lmae.append(round(mae,2))\n",
    "lrmse.append(round(rmse,2))"
   ]
  },
  {
   "cell_type": "code",
   "execution_count": 21,
   "metadata": {},
   "outputs": [
    {
     "name": "stdout",
     "output_type": "stream",
     "text": [
      "\n",
      "###### Ridge Regression ######\n",
      "Score : 0.7323\n",
      "[0.73162062 0.73277193 0.73296619 0.73641735 0.72473452]\n",
      "\n",
      "MSE    : 4335868.81 \n",
      "MAE    : 1379.55 \n",
      "RMSE   : 2082.27 \n",
      "R2     : 0.73 \n"
     ]
    },
    {
     "name": "stderr",
     "output_type": "stream",
     "text": [
      "[Parallel(n_jobs=1)]: Using backend SequentialBackend with 1 concurrent workers.\n",
      "[Parallel(n_jobs=1)]: Done   5 out of   5 | elapsed:    0.0s finished\n"
     ]
    }
   ],
   "source": [
    "clf_rr = Ridge(normalize=True)\n",
    "clf_rr.fit(X_train , y_train)\n",
    "accuracies = cross_val_score(estimator = clf_rr, X = X_train, y = y_train, cv = 5,verbose = 1)\n",
    "y_pred = clf_rr.predict(X_test)\n",
    "print('')\n",
    "print('###### Ridge Regression ######')\n",
    "print('Score : %.4f' % clf_rr.score(X_test, y_test))\n",
    "print(accuracies)\n",
    "\n",
    "mse = mean_squared_error(y_test, y_pred)\n",
    "mae = mean_absolute_error(y_test, y_pred)\n",
    "rmse = mean_squared_error(y_test, y_pred)**0.5\n",
    "r2 = r2_score(y_test, y_pred)\n",
    "\n",
    "print('')\n",
    "print('MSE    : %0.2f ' % mse)\n",
    "print('MAE    : %0.2f ' % mae)\n",
    "print('RMSE   : %0.2f ' % rmse)\n",
    "print('R2     : %0.2f ' % r2)\n",
    "\n",
    "R2_Scores.append(r2)\n",
    "lmse.append(round(mse,2))\n",
    "lmae.append(round(mae,2))\n",
    "lrmse.append(round(rmse,2))"
   ]
  },
  {
   "cell_type": "code",
   "execution_count": 22,
   "metadata": {},
   "outputs": [
    {
     "data": {
      "text/html": [
       "<div>\n",
       "<style scoped>\n",
       "    .dataframe tbody tr th:only-of-type {\n",
       "        vertical-align: middle;\n",
       "    }\n",
       "\n",
       "    .dataframe tbody tr th {\n",
       "        vertical-align: top;\n",
       "    }\n",
       "\n",
       "    .dataframe thead th {\n",
       "        text-align: right;\n",
       "    }\n",
       "</style>\n",
       "<table border=\"1\" class=\"dataframe\">\n",
       "  <thead>\n",
       "    <tr style=\"text-align: right;\">\n",
       "      <th></th>\n",
       "      <th>Regression-Algorithms</th>\n",
       "      <th>R2-Scores</th>\n",
       "      <th>RMSE</th>\n",
       "      <th>MAE</th>\n",
       "      <th>MSE</th>\n",
       "    </tr>\n",
       "  </thead>\n",
       "  <tbody>\n",
       "    <tr>\n",
       "      <th>0</th>\n",
       "      <td>RandomForest</td>\n",
       "      <td>0.979863</td>\n",
       "      <td>592.49</td>\n",
       "      <td>298.54</td>\n",
       "      <td>351044.97</td>\n",
       "    </tr>\n",
       "    <tr>\n",
       "      <th>1</th>\n",
       "      <td>KNeighbours</td>\n",
       "      <td>0.963220</td>\n",
       "      <td>786.67</td>\n",
       "      <td>427.28</td>\n",
       "      <td>618851.94</td>\n",
       "    </tr>\n",
       "    <tr>\n",
       "      <th>2</th>\n",
       "      <td>DecisionTree</td>\n",
       "      <td>0.962566</td>\n",
       "      <td>778.71</td>\n",
       "      <td>379.27</td>\n",
       "      <td>606383.36</td>\n",
       "    </tr>\n",
       "    <tr>\n",
       "      <th>3</th>\n",
       "      <td>GradientBoosting</td>\n",
       "      <td>0.930309</td>\n",
       "      <td>1062.51</td>\n",
       "      <td>691.32</td>\n",
       "      <td>1128917.10</td>\n",
       "    </tr>\n",
       "    <tr>\n",
       "      <th>5</th>\n",
       "      <td>AdaBoost</td>\n",
       "      <td>0.915905</td>\n",
       "      <td>1167.15</td>\n",
       "      <td>926.39</td>\n",
       "      <td>1362240.45</td>\n",
       "    </tr>\n",
       "    <tr>\n",
       "      <th>4</th>\n",
       "      <td>Linear</td>\n",
       "      <td>0.904712</td>\n",
       "      <td>1242.40</td>\n",
       "      <td>844.14</td>\n",
       "      <td>1543555.33</td>\n",
       "    </tr>\n",
       "    <tr>\n",
       "      <th>6</th>\n",
       "      <td>Ridge</td>\n",
       "      <td>0.732334</td>\n",
       "      <td>2082.27</td>\n",
       "      <td>1379.55</td>\n",
       "      <td>4335868.81</td>\n",
       "    </tr>\n",
       "  </tbody>\n",
       "</table>\n",
       "</div>"
      ],
      "text/plain": [
       "  Regression-Algorithms  R2-Scores     RMSE      MAE         MSE\n",
       "0          RandomForest   0.979863   592.49   298.54   351044.97\n",
       "1           KNeighbours   0.963220   786.67   427.28   618851.94\n",
       "2          DecisionTree   0.962566   778.71   379.27   606383.36\n",
       "3      GradientBoosting   0.930309  1062.51   691.32  1128917.10\n",
       "5              AdaBoost   0.915905  1167.15   926.39  1362240.45\n",
       "4                Linear   0.904712  1242.40   844.14  1543555.33\n",
       "6                 Ridge   0.732334  2082.27  1379.55  4335868.81"
      ]
     },
     "metadata": {},
     "output_type": "display_data"
    }
   ],
   "source": [
    "compare_models = pd.DataFrame({'Regression-Algorithms' : models , 'R2-Scores' : R2_Scores, \n",
    "                               \"RMSE\" : lrmse, \"MAE\":lmae, \"MSE\":lmse})\n",
    "\n",
    "compare = compare_models.sort_values(by = 'R2-Scores', ascending=False)\n",
    "display(compare)"
   ]
  },
  {
   "cell_type": "code",
   "execution_count": 23,
   "metadata": {},
   "outputs": [
    {
     "data": {
      "image/png": "[encoded data removed]",
      "text/plain": [
       "<Figure size 432x288 with 1 Axes>"
      ]
     },
     "metadata": {
      "needs_background": "light"
     },
     "output_type": "display_data"
    },
    {
     "data": {
      "text/plain": [
       "<Figure size 864x720 with 0 Axes>"
      ]
     },
     "metadata": {},
     "output_type": "display_data"
    }
   ],
   "source": [
    "sns.barplot(x='R2-Scores' , y='Regression-Algorithms' , data=compare, palette='Set2');\n",
    "plt.title('Models Ranking', size = 22);\n",
    "plt.figure(figsize=(12,10));"
   ]
  },
  {
   "cell_type": "code",
   "execution_count": 24,
   "metadata": {},
   "outputs": [
    {
     "data": {
      "text/plain": [
       "<matplotlib.axes._subplots.AxesSubplot at 0x7f8c28af0310>"
      ]
     },
     "execution_count": 24,
     "metadata": {},
     "output_type": "execute_result"
    },
    {
     "data": {
      "image/png": "[encoded data removed]",
      "text/plain": [
       "<Figure size 432x288 with 1 Axes>"
      ]
     },
     "metadata": {
      "needs_background": "light"
     },
     "output_type": "display_data"
    }
   ],
   "source": [
    "\n",
    "sns.pointplot(\"R2-Scores\",\"Regression-Algorithms\",data=pd.DataFrame({'Regression-Algorithms':models,\"R2-Scores\":R2_Scores}))"
   ]
  },
  {
   "cell_type": "code",
   "execution_count": 25,
   "metadata": {},
   "outputs": [
    {
     "data": {
      "text/plain": [
       "<seaborn.axisgrid.FacetGrid at 0x7f8c28a7c850>"
      ]
     },
     "execution_count": 25,
     "metadata": {},
     "output_type": "execute_result"
    },
    {
     "data": {
      "image/png": "[encoded data removed]",
      "text/plain": [
       "<Figure size 1728x576 with 1 Axes>"
      ]
     },
     "metadata": {
      "needs_background": "light"
     },
     "output_type": "display_data"
    }
   ],
   "source": [
    "sns.factorplot(x='Regression-Algorithms', y='R2-Scores' , data=compare, size=8 , aspect=3)"
   ]
  },
  {
   "cell_type": "code",
   "execution_count": 26,
   "metadata": {},
   "outputs": [],
   "source": [
    "parameters = { \n",
    "    'bootstrap': [True, False],\n",
    "    'n_estimators': [100, 500, 750, 1000],\n",
    "    'max_features': ['auto', 'sqrt', 'log2'],\n",
    "    'min_samples_leaf': [1, 2, 4],\n",
    "    'min_samples_split': [2, 8, 10, 12],\n",
    "    'max_depth' : [10, 50, 75, 100, 150]}"
   ]
  }
 ],
 "metadata": {
  "kernelspec": {
   "display_name": "Python 3",
   "language": "python",
   "name": "python3"
  },
  "language_info": {
   "codemirror_mode": {
    "name": "ipython",
    "version": 3
   },
   "file_extension": ".py",
   "mimetype": "text/x-python",
   "name": "python",
   "nbconvert_exporter": "python",
   "pygments_lexer": "ipython3",
   "version": "3.7.5"
  }
 },
 "nbformat": 4,
 "nbformat_minor": 2
}
