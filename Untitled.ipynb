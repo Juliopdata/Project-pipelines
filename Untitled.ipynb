{
 "cells": [
  {
   "cell_type": "code",
   "execution_count": 44,
   "metadata": {},
   "outputs": [],
   "source": [
    "import pandas as pd\n",
    "import re\n",
    "df = pd.read_csv('./src/movies_metadata.csv')"
   ]
  },
  {
   "cell_type": "code",
   "execution_count": 45,
   "metadata": {},
   "outputs": [
    {
     "name": "stdout",
     "output_type": "stream",
     "text": [
      "<class 'pandas.core.frame.DataFrame'>\n",
      "RangeIndex: 45466 entries, 0 to 45465\n",
      "Data columns (total 24 columns):\n",
      "adult                    45466 non-null object\n",
      "belongs_to_collection    4494 non-null object\n",
      "budget                   45466 non-null object\n",
      "genres                   45466 non-null object\n",
      "homepage                 7782 non-null object\n",
      "id                       45466 non-null object\n",
      "imdb_id                  45449 non-null object\n",
      "original_language        45455 non-null object\n",
      "original_title           45466 non-null object\n",
      "overview                 44512 non-null object\n",
      "popularity               45461 non-null object\n",
      "poster_path              45080 non-null object\n",
      "production_companies     45463 non-null object\n",
      "production_countries     45463 non-null object\n",
      "release_date             45379 non-null object\n",
      "revenue                  45460 non-null float64\n",
      "runtime                  45203 non-null float64\n",
      "spoken_languages         45460 non-null object\n",
      "status                   45379 non-null object\n",
      "tagline                  20412 non-null object\n",
      "title                    45460 non-null object\n",
      "video                    45460 non-null object\n",
      "vote_average             45460 non-null float64\n",
      "vote_count               45460 non-null float64\n",
      "dtypes: float64(4), object(20)\n",
      "memory usage: 8.3+ MB\n"
     ]
    }
   ],
   "source": [
    "df.info()"
   ]
  },
  {
   "cell_type": "code",
   "execution_count": 46,
   "metadata": {},
   "outputs": [],
   "source": [
    "dfclean = df.drop(['popularity', 'id', 'spoken_languages', 'tagline', 'budget', 'vote_count', 'belongs_to_collection', 'homepage', 'imdb_id', 'production_companies', 'production_countries', 'revenue', 'status', 'video'], axis=1)"
   ]
  },
  {
   "cell_type": "code",
   "execution_count": 47,
   "metadata": {},
   "outputs": [
    {
     "data": {
      "text/plain": [
       "adult                45466\n",
       "genres               45466\n",
       "original_language    45455\n",
       "original_title       45466\n",
       "overview             44512\n",
       "poster_path          45080\n",
       "release_date         45379\n",
       "runtime              45203\n",
       "title                45460\n",
       "vote_average         45460\n",
       "dtype: int64"
      ]
     },
     "execution_count": 47,
     "metadata": {},
     "output_type": "execute_result"
    }
   ],
   "source": [
    "dfclean.count()"
   ]
  },
  {
   "cell_type": "code",
   "execution_count": 48,
   "metadata": {},
   "outputs": [
    {
     "data": {
      "text/plain": [
       "adult                44118\n",
       "genres               44118\n",
       "original_language    44118\n",
       "original_title       44118\n",
       "overview             44118\n",
       "poster_path          44118\n",
       "release_date         44118\n",
       "runtime              44118\n",
       "title                44118\n",
       "vote_average         44118\n",
       "dtype: int64"
      ]
     },
     "execution_count": 48,
     "metadata": {},
     "output_type": "execute_result"
    }
   ],
   "source": [
    "dfclean2 = dfclean.dropna()\n",
    "dfclean2.count()"
   ]
  },
  {
   "cell_type": "code",
   "execution_count": 49,
   "metadata": {},
   "outputs": [
    {
     "data": {
      "text/plain": [
       "0        [{'id': 16, 'name': 'Animation'}, {'id': 35, '...\n",
       "1        [{'id': 12, 'name': 'Adventure'}, {'id': 14, '...\n",
       "2        [{'id': 10749, 'name': 'Romance'}, {'id': 35, ...\n",
       "3        [{'id': 35, 'name': 'Comedy'}, {'id': 18, 'nam...\n",
       "4                           [{'id': 35, 'name': 'Comedy'}]\n",
       "                               ...                        \n",
       "45461    [{'id': 18, 'name': 'Drama'}, {'id': 10751, 'n...\n",
       "45462                        [{'id': 18, 'name': 'Drama'}]\n",
       "45463    [{'id': 28, 'name': 'Action'}, {'id': 18, 'nam...\n",
       "45464                                                   []\n",
       "45465                                                   []\n",
       "Name: genres, Length: 45466, dtype: object"
      ]
     },
     "execution_count": 49,
     "metadata": {},
     "output_type": "execute_result"
    }
   ],
   "source": [
    "dfclean['genres']"
   ]
  },
  {
   "cell_type": "code",
   "execution_count": 50,
   "metadata": {},
   "outputs": [],
   "source": [
    "genresclean = []\n",
    "for e in dfclean['genres']:\n",
    "    e = str(re.sub(\"[^A-Za-z]\",\"\", e))\n",
    "    e = str(re.sub('idname', \",\", e))\n",
    "    genresclean.append(e.strip(','))\n",
    "    \n",
    "dfclean['genres'] = genresclean\n",
    "    "
   ]
  },
  {
   "cell_type": "code",
   "execution_count": 58,
   "metadata": {},
   "outputs": [],
   "source": [
    "genresclean2 = []\n",
    "for e in dfclean['genres']:\n",
    "    if e == 'LOL':\n",
    "        e = 'Uknkown'\n",
    "        genresclean2.append(e)\n",
    "    else:\n",
    "        genresclean2.append(e)\n",
    "dfclean['genres'] = genresclean2"
   ]
  },
  {
   "cell_type": "code",
   "execution_count": 59,
   "metadata": {},
   "outputs": [
    {
     "data": {
      "text/plain": [
       "Drama                   5000\n",
       "Comedy                  3621\n",
       "Documentary             2723\n",
       "Uknkown                 2442\n",
       "Drama,Romance           1301\n",
       "Comedy,Drama            1135\n",
       "Horror                   974\n",
       "Comedy,Romance           930\n",
       "Comedy,Drama,Romance     593\n",
       "Drama,Comedy             532\n",
       "Horror,Thriller          528\n",
       "Drama,Thriller           497\n",
       "Thriller                 465\n",
       "Crime,Drama              430\n",
       "Romance,Drama            343\n",
       "Name: genres, dtype: int64"
      ]
     },
     "execution_count": 59,
     "metadata": {},
     "output_type": "execute_result"
    }
   ],
   "source": [
    "dfclean['genres'].value_counts().head(15)"
   ]
  },
  {
   "cell_type": "code",
   "execution_count": 60,
   "metadata": {},
   "outputs": [
    {
     "data": {
      "text/html": [
       "<div>\n",
       "<style scoped>\n",
       "    .dataframe tbody tr th:only-of-type {\n",
       "        vertical-align: middle;\n",
       "    }\n",
       "\n",
       "    .dataframe tbody tr th {\n",
       "        vertical-align: top;\n",
       "    }\n",
       "\n",
       "    .dataframe thead th {\n",
       "        text-align: right;\n",
       "    }\n",
       "</style>\n",
       "<table border=\"1\" class=\"dataframe\">\n",
       "  <thead>\n",
       "    <tr style=\"text-align: right;\">\n",
       "      <th></th>\n",
       "      <th>adult</th>\n",
       "      <th>genres</th>\n",
       "      <th>original_language</th>\n",
       "      <th>original_title</th>\n",
       "      <th>overview</th>\n",
       "      <th>poster_path</th>\n",
       "      <th>release_date</th>\n",
       "      <th>runtime</th>\n",
       "      <th>title</th>\n",
       "      <th>vote_average</th>\n",
       "    </tr>\n",
       "  </thead>\n",
       "  <tbody>\n",
       "    <tr>\n",
       "      <th>0</th>\n",
       "      <td>False</td>\n",
       "      <td>Animation,Comedy,Family</td>\n",
       "      <td>en</td>\n",
       "      <td>Toy Story</td>\n",
       "      <td>Led by Woody, Andy's toys live happily in his ...</td>\n",
       "      <td>/rhIRbceoE9lR4veEXuwCC2wARtG.jpg</td>\n",
       "      <td>1995-10-30</td>\n",
       "      <td>81.0</td>\n",
       "      <td>Toy Story</td>\n",
       "      <td>7.7</td>\n",
       "    </tr>\n",
       "    <tr>\n",
       "      <th>1</th>\n",
       "      <td>False</td>\n",
       "      <td>Adventure,Fantasy,Family</td>\n",
       "      <td>en</td>\n",
       "      <td>Jumanji</td>\n",
       "      <td>When siblings Judy and Peter discover an encha...</td>\n",
       "      <td>/vzmL6fP7aPKNKPRTFnZmiUfciyV.jpg</td>\n",
       "      <td>1995-12-15</td>\n",
       "      <td>104.0</td>\n",
       "      <td>Jumanji</td>\n",
       "      <td>6.9</td>\n",
       "    </tr>\n",
       "    <tr>\n",
       "      <th>2</th>\n",
       "      <td>False</td>\n",
       "      <td>Romance,Comedy</td>\n",
       "      <td>en</td>\n",
       "      <td>Grumpier Old Men</td>\n",
       "      <td>A family wedding reignites the ancient feud be...</td>\n",
       "      <td>/6ksm1sjKMFLbO7UY2i6G1ju9SML.jpg</td>\n",
       "      <td>1995-12-22</td>\n",
       "      <td>101.0</td>\n",
       "      <td>Grumpier Old Men</td>\n",
       "      <td>6.5</td>\n",
       "    </tr>\n",
       "    <tr>\n",
       "      <th>3</th>\n",
       "      <td>False</td>\n",
       "      <td>Comedy,Drama,Romance</td>\n",
       "      <td>en</td>\n",
       "      <td>Waiting to Exhale</td>\n",
       "      <td>Cheated on, mistreated and stepped on, the wom...</td>\n",
       "      <td>/16XOMpEaLWkrcPqSQqhTmeJuqQl.jpg</td>\n",
       "      <td>1995-12-22</td>\n",
       "      <td>127.0</td>\n",
       "      <td>Waiting to Exhale</td>\n",
       "      <td>6.1</td>\n",
       "    </tr>\n",
       "    <tr>\n",
       "      <th>4</th>\n",
       "      <td>False</td>\n",
       "      <td>Comedy</td>\n",
       "      <td>en</td>\n",
       "      <td>Father of the Bride Part II</td>\n",
       "      <td>Just when George Banks has recovered from his ...</td>\n",
       "      <td>/e64sOI48hQXyru7naBFyssKFxVd.jpg</td>\n",
       "      <td>1995-02-10</td>\n",
       "      <td>106.0</td>\n",
       "      <td>Father of the Bride Part II</td>\n",
       "      <td>5.7</td>\n",
       "    </tr>\n",
       "    <tr>\n",
       "      <th>...</th>\n",
       "      <td>...</td>\n",
       "      <td>...</td>\n",
       "      <td>...</td>\n",
       "      <td>...</td>\n",
       "      <td>...</td>\n",
       "      <td>...</td>\n",
       "      <td>...</td>\n",
       "      <td>...</td>\n",
       "      <td>...</td>\n",
       "      <td>...</td>\n",
       "    </tr>\n",
       "    <tr>\n",
       "      <th>45461</th>\n",
       "      <td>False</td>\n",
       "      <td>Drama,Family</td>\n",
       "      <td>fa</td>\n",
       "      <td>رگ خواب</td>\n",
       "      <td>Rising and falling between a man and woman.</td>\n",
       "      <td>/jldsYflnId4tTWPx8es3uzsB1I8.jpg</td>\n",
       "      <td>NaN</td>\n",
       "      <td>90.0</td>\n",
       "      <td>Subdue</td>\n",
       "      <td>4.0</td>\n",
       "    </tr>\n",
       "    <tr>\n",
       "      <th>45462</th>\n",
       "      <td>False</td>\n",
       "      <td>Drama</td>\n",
       "      <td>tl</td>\n",
       "      <td>Siglo ng Pagluluwal</td>\n",
       "      <td>An artist struggles to finish his work while a...</td>\n",
       "      <td>/xZkmxsNmYXJbKVsTRLLx3pqGHx7.jpg</td>\n",
       "      <td>2011-11-17</td>\n",
       "      <td>360.0</td>\n",
       "      <td>Century of Birthing</td>\n",
       "      <td>9.0</td>\n",
       "    </tr>\n",
       "    <tr>\n",
       "      <th>45463</th>\n",
       "      <td>False</td>\n",
       "      <td>Action,Drama,Thriller</td>\n",
       "      <td>en</td>\n",
       "      <td>Betrayal</td>\n",
       "      <td>When one of her hits goes wrong, a professiona...</td>\n",
       "      <td>/d5bX92nDsISNhu3ZT69uHwmfCGw.jpg</td>\n",
       "      <td>2003-08-01</td>\n",
       "      <td>90.0</td>\n",
       "      <td>Betrayal</td>\n",
       "      <td>3.8</td>\n",
       "    </tr>\n",
       "    <tr>\n",
       "      <th>45464</th>\n",
       "      <td>False</td>\n",
       "      <td>Uknkown</td>\n",
       "      <td>en</td>\n",
       "      <td>Satana likuyushchiy</td>\n",
       "      <td>In a small town live two brothers, one a minis...</td>\n",
       "      <td>/aorBPO7ak8e8iJKT5OcqYxU3jlK.jpg</td>\n",
       "      <td>1917-10-21</td>\n",
       "      <td>87.0</td>\n",
       "      <td>Satan Triumphant</td>\n",
       "      <td>0.0</td>\n",
       "    </tr>\n",
       "    <tr>\n",
       "      <th>45465</th>\n",
       "      <td>False</td>\n",
       "      <td>Uknkown</td>\n",
       "      <td>en</td>\n",
       "      <td>Queerama</td>\n",
       "      <td>50 years after decriminalisation of homosexual...</td>\n",
       "      <td>/s5UkZt6NTsrS7ZF0Rh8nzupRlIU.jpg</td>\n",
       "      <td>2017-06-09</td>\n",
       "      <td>75.0</td>\n",
       "      <td>Queerama</td>\n",
       "      <td>0.0</td>\n",
       "    </tr>\n",
       "  </tbody>\n",
       "</table>\n",
       "<p>45466 rows × 10 columns</p>\n",
       "</div>"
      ],
      "text/plain": [
       "       adult                    genres original_language  \\\n",
       "0      False   Animation,Comedy,Family                en   \n",
       "1      False  Adventure,Fantasy,Family                en   \n",
       "2      False            Romance,Comedy                en   \n",
       "3      False      Comedy,Drama,Romance                en   \n",
       "4      False                    Comedy                en   \n",
       "...      ...                       ...               ...   \n",
       "45461  False              Drama,Family                fa   \n",
       "45462  False                     Drama                tl   \n",
       "45463  False     Action,Drama,Thriller                en   \n",
       "45464  False                   Uknkown                en   \n",
       "45465  False                   Uknkown                en   \n",
       "\n",
       "                    original_title  \\\n",
       "0                        Toy Story   \n",
       "1                          Jumanji   \n",
       "2                 Grumpier Old Men   \n",
       "3                Waiting to Exhale   \n",
       "4      Father of the Bride Part II   \n",
       "...                            ...   \n",
       "45461                      رگ خواب   \n",
       "45462          Siglo ng Pagluluwal   \n",
       "45463                     Betrayal   \n",
       "45464          Satana likuyushchiy   \n",
       "45465                     Queerama   \n",
       "\n",
       "                                                overview  \\\n",
       "0      Led by Woody, Andy's toys live happily in his ...   \n",
       "1      When siblings Judy and Peter discover an encha...   \n",
       "2      A family wedding reignites the ancient feud be...   \n",
       "3      Cheated on, mistreated and stepped on, the wom...   \n",
       "4      Just when George Banks has recovered from his ...   \n",
       "...                                                  ...   \n",
       "45461        Rising and falling between a man and woman.   \n",
       "45462  An artist struggles to finish his work while a...   \n",
       "45463  When one of her hits goes wrong, a professiona...   \n",
       "45464  In a small town live two brothers, one a minis...   \n",
       "45465  50 years after decriminalisation of homosexual...   \n",
       "\n",
       "                            poster_path release_date  runtime  \\\n",
       "0      /rhIRbceoE9lR4veEXuwCC2wARtG.jpg   1995-10-30     81.0   \n",
       "1      /vzmL6fP7aPKNKPRTFnZmiUfciyV.jpg   1995-12-15    104.0   \n",
       "2      /6ksm1sjKMFLbO7UY2i6G1ju9SML.jpg   1995-12-22    101.0   \n",
       "3      /16XOMpEaLWkrcPqSQqhTmeJuqQl.jpg   1995-12-22    127.0   \n",
       "4      /e64sOI48hQXyru7naBFyssKFxVd.jpg   1995-02-10    106.0   \n",
       "...                                 ...          ...      ...   \n",
       "45461  /jldsYflnId4tTWPx8es3uzsB1I8.jpg          NaN     90.0   \n",
       "45462  /xZkmxsNmYXJbKVsTRLLx3pqGHx7.jpg   2011-11-17    360.0   \n",
       "45463  /d5bX92nDsISNhu3ZT69uHwmfCGw.jpg   2003-08-01     90.0   \n",
       "45464  /aorBPO7ak8e8iJKT5OcqYxU3jlK.jpg   1917-10-21     87.0   \n",
       "45465  /s5UkZt6NTsrS7ZF0Rh8nzupRlIU.jpg   2017-06-09     75.0   \n",
       "\n",
       "                             title  vote_average  \n",
       "0                        Toy Story           7.7  \n",
       "1                          Jumanji           6.9  \n",
       "2                 Grumpier Old Men           6.5  \n",
       "3                Waiting to Exhale           6.1  \n",
       "4      Father of the Bride Part II           5.7  \n",
       "...                            ...           ...  \n",
       "45461                       Subdue           4.0  \n",
       "45462          Century of Birthing           9.0  \n",
       "45463                     Betrayal           3.8  \n",
       "45464             Satan Triumphant           0.0  \n",
       "45465                     Queerama           0.0  \n",
       "\n",
       "[45466 rows x 10 columns]"
      ]
     },
     "metadata": {},
     "output_type": "display_data"
    }
   ],
   "source": [
    "display(dfclean)"
   ]
  },
  {
   "cell_type": "code",
   "execution_count": null,
   "metadata": {},
   "outputs": [],
   "source": []
  },
  {
   "cell_type": "code",
   "execution_count": null,
   "metadata": {},
   "outputs": [],
   "source": []
  }
 ],
 "metadata": {
  "kernelspec": {
   "display_name": "Python 3",
   "language": "python",
   "name": "python3"
  },
  "language_info": {
   "codemirror_mode": {
    "name": "ipython",
    "version": 3
   },
   "file_extension": ".py",
   "mimetype": "text/x-python",
   "name": "python",
   "nbconvert_exporter": "python",
   "pygments_lexer": "ipython3",
   "version": "3.7.5rc1"
  }
 },
 "nbformat": 4,
 "nbformat_minor": 2
}
